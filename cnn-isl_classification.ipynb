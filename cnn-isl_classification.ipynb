{
  "cells": [
    {
      "cell_type": "code",
      "execution_count": 18,
      "metadata": {
        "id": "aYN5KViMUIKW"
      },
      "outputs": [],
      "source": [
        "training_ds_path=\"/Users/vaishaalikondapalli/Desktop/Allimgs/Train\"\n",
        "testing_ds_path=\"/Users/vaishaalikondapalli/Desktop/Allimgs/Test\""
      ]
    },
    {
      "cell_type": "code",
      "execution_count": 19,
      "metadata": {
        "id": "Xa6UnMGhUITi"
      },
      "outputs": [],
      "source": [
        "import numpy as np\n",
        "import keras\n",
        "from keras.layers import *\n",
        "from keras.models import *\n",
        "from keras.preprocessing import image"
      ]
    },
    {
      "cell_type": "code",
      "execution_count": 20,
      "metadata": {
        "id": "Bu_VZAAZUIWQ"
      },
      "outputs": [],
      "source": [
        "#model definition\n",
        "model = Sequential()\n",
        "model.add(Conv2D(32,kernel_size=(3,3),activation='relu', input_shape=(224,224,3)))\n",
        "model.add(Conv2D(64,(3,3), activation='relu'))\n",
        "model.add(MaxPooling2D(pool_size=(2,2)))\n",
        "model.add(Dropout(0.25))\n",
        "\n",
        "model.add(Conv2D(64,(3,3), activation='relu'))\n",
        "model.add(MaxPooling2D(pool_size=(2,2)))\n",
        "model.add(Dropout(0.25))\n",
        "\n",
        "model.add(Conv2D(128,(3,3), activation='relu'))\n",
        "model.add(MaxPooling2D(pool_size=(2,2)))\n",
        "model.add(Dropout(0.25))\n",
        "\n",
        "model.add(Flatten())\n",
        "model.add(Dense(64,activation='relu'))\n",
        "model.add(Dropout(0.5))\n",
        "model.add(Dense(1,activation='sigmoid'))\n",
        "\n",
        "model.compile(loss=keras.losses.binary_crossentropy, optimizer='adam',metrics=['accuracy'])\n",
        "\n",
        "#used to detect feature in very tiny areas of the image.Its gonna learn a hidden pattern.As you go deeper into the layered network,\n",
        "#the receptive feild of the CNN increases. So, the feature it extracts are quite a bigger part of the original picture.\n",
        "#(3x3) is the standard kernel size picked"
      ]
    },
    {
      "cell_type": "code",
      "execution_count": 21,
      "metadata": {
        "colab": {
          "base_uri": "https://localhost:8080/"
        },
        "id": "yhsnYvquUIYr",
        "outputId": "b2f1fabb-ca82-42c1-fcec-5c9a7cc46749"
      },
      "outputs": [
        {
          "name": "stdout",
          "output_type": "stream",
          "text": [
            "Model: \"sequential_1\"\n",
            "_________________________________________________________________\n",
            " Layer (type)                Output Shape              Param #   \n",
            "=================================================================\n",
            " conv2d_4 (Conv2D)           (None, 222, 222, 32)      896       \n",
            "                                                                 \n",
            " conv2d_5 (Conv2D)           (None, 220, 220, 64)      18496     \n",
            "                                                                 \n",
            " max_pooling2d_3 (MaxPoolin  (None, 110, 110, 64)      0         \n",
            " g2D)                                                            \n",
            "                                                                 \n",
            " dropout_4 (Dropout)         (None, 110, 110, 64)      0         \n",
            "                                                                 \n",
            " conv2d_6 (Conv2D)           (None, 108, 108, 64)      36928     \n",
            "                                                                 \n",
            " max_pooling2d_4 (MaxPoolin  (None, 54, 54, 64)        0         \n",
            " g2D)                                                            \n",
            "                                                                 \n",
            " dropout_5 (Dropout)         (None, 54, 54, 64)        0         \n",
            "                                                                 \n",
            " conv2d_7 (Conv2D)           (None, 52, 52, 128)       73856     \n",
            "                                                                 \n",
            " max_pooling2d_5 (MaxPoolin  (None, 26, 26, 128)       0         \n",
            " g2D)                                                            \n",
            "                                                                 \n",
            " dropout_6 (Dropout)         (None, 26, 26, 128)       0         \n",
            "                                                                 \n",
            " flatten_1 (Flatten)         (None, 86528)             0         \n",
            "                                                                 \n",
            " dense_2 (Dense)             (None, 64)                5537856   \n",
            "                                                                 \n",
            " dropout_7 (Dropout)         (None, 64)                0         \n",
            "                                                                 \n",
            " dense_3 (Dense)             (None, 1)                 65        \n",
            "                                                                 \n",
            "=================================================================\n",
            "Total params: 5668097 (21.62 MB)\n",
            "Trainable params: 5668097 (21.62 MB)\n",
            "Non-trainable params: 0 (0.00 Byte)\n",
            "_________________________________________________________________\n"
          ]
        }
      ],
      "source": [
        "model.summary()"
      ]
    },
    {
      "cell_type": "code",
      "execution_count": 22,
      "metadata": {
        "id": "r7TyLzYSUIbd"
      },
      "outputs": [],
      "source": [
        "#Train from scratch\n",
        "#so we'll use the keras image data generator library to make the data ready for the mode\n",
        "\n",
        "train_datagen = image.ImageDataGenerator(\n",
        "    rescale=1./255,\n",
        "    shear_range=0.2,\n",
        "    zoom_range=0.2,\n",
        "    horizontal_flip=True,\n",
        "    rotation_range=20,       # Rotate the image by 20 degrees\n",
        "    width_shift_range=0.2,   # Shift the image horizontally\n",
        "    height_shift_range=0.2,  # Shift the image vertically\n",
        "    brightness_range=[0.8,1.2], # Adjust brightness\n",
        "    channel_shift_range=0.2,  # Randomly shift color channels\n",
        "    fill_mode='nearest'      # How to fill in new pixels after a transformation\n",
        ")\n",
        "test_dataset=image.ImageDataGenerator(rescale=1./255)"
      ]
    },
    {
      "cell_type": "code",
      "execution_count": 23,
      "metadata": {
        "colab": {
          "base_uri": "https://localhost:8080/"
        },
        "id": "Yd6igAYzUIeM",
        "outputId": "d138a05a-481a-4026-affc-5dfac70ae78c"
      },
      "outputs": [
        {
          "name": "stdout",
          "output_type": "stream",
          "text": [
            "Found 283 images belonging to 7 classes.\n"
          ]
        }
      ],
      "source": [
        "#creating actual generator function\n",
        "train_generator=train_datagen.flow_from_directory(\n",
        "    '/Users/vaishaalikondapalli/Desktop/Allimgs/Train',\n",
        "    target_size=(224,224),\n",
        "    batch_size=8,\n",
        "    class_mode='categorical'\n",
        ")"
      ]
    },
    {
      "cell_type": "code",
      "execution_count": 24,
      "metadata": {
        "colab": {
          "base_uri": "https://localhost:8080/"
        },
        "id": "bJhxOeQtUIgw",
        "outputId": "0cac12f2-5b0c-427b-c36d-8fedd580b339"
      },
      "outputs": [
        {
          "data": {
            "text/plain": [
              "{'Hello': 0,\n",
              " 'Help': 1,\n",
              " 'PhoneNumber': 2,\n",
              " 'Please': 3,\n",
              " 'Sorry': 4,\n",
              " 'ThankYou': 5,\n",
              " 'Water': 6}"
            ]
          },
          "execution_count": 24,
          "metadata": {},
          "output_type": "execute_result"
        }
      ],
      "source": [
        "train_generator.class_indices"
      ]
    },
    {
      "cell_type": "code",
      "execution_count": 25,
      "metadata": {
        "colab": {
          "base_uri": "https://localhost:8080/"
        },
        "id": "u7r8we6SUIjK",
        "outputId": "1b0e284d-9cab-47a5-82fd-2cedebf9d67f"
      },
      "outputs": [
        {
          "name": "stdout",
          "output_type": "stream",
          "text": [
            "Found 163 images belonging to 7 classes.\n"
          ]
        }
      ],
      "source": [
        "#creating the validation function\n",
        "validation_generator=test_dataset.flow_from_directory(\n",
        "    '/Users/vaishaalikondapalli/Desktop/Allimgs/Test',\n",
        "    target_size=(224,224),\n",
        "    batch_size=8,\n",
        "    class_mode='categorical'\n",
        ")"
      ]
    },
    {
      "cell_type": "code",
      "execution_count": 26,
      "metadata": {
        "colab": {
          "base_uri": "https://localhost:8080/"
        },
        "id": "ZcUb85_iUIlQ",
        "outputId": "966b3232-bce2-4929-be19-444959abc8c6"
      },
      "outputs": [
        {
          "name": "stderr",
          "output_type": "stream",
          "text": [
            "/var/folders/13/p_dy58694092f9vhw3lnlmwc0000gn/T/ipykernel_54412/2018266594.py:1: UserWarning: `Model.fit_generator` is deprecated and will be removed in a future version. Please use `Model.fit`, which supports generators.\n",
            "  hist = model.fit_generator(\n"
          ]
        },
        {
          "name": "stdout",
          "output_type": "stream",
          "text": [
            "Epoch 1/100\n",
            "8/8 [==============================] - 10s 1s/step - loss: 0.7942 - accuracy: 0.7902 - val_loss: 0.4326 - val_accuracy: 0.8571\n",
            "Epoch 2/100\n",
            "8/8 [==============================] - 8s 985ms/step - loss: 0.4834 - accuracy: 0.8571 - val_loss: 0.5897 - val_accuracy: 0.8571\n",
            "Epoch 3/100\n",
            "8/8 [==============================] - 8s 991ms/step - loss: 0.4496 - accuracy: 0.8571 - val_loss: 0.4540 - val_accuracy: 0.8571\n",
            "Epoch 4/100\n",
            "8/8 [==============================] - 8s 957ms/step - loss: 0.4373 - accuracy: 0.8571 - val_loss: 0.4749 - val_accuracy: 0.8571\n",
            "Epoch 5/100\n",
            "8/8 [==============================] - 8s 962ms/step - loss: 0.4333 - accuracy: 0.8571 - val_loss: 0.4493 - val_accuracy: 0.8571\n",
            "Epoch 6/100\n",
            "8/8 [==============================] - 7s 920ms/step - loss: 0.4321 - accuracy: 0.8571 - val_loss: 0.4634 - val_accuracy: 0.8571\n",
            "Epoch 7/100\n",
            "8/8 [==============================] - 8s 971ms/step - loss: 0.4288 - accuracy: 0.8571 - val_loss: 0.4518 - val_accuracy: 0.8571\n",
            "Epoch 8/100\n",
            "8/8 [==============================] - 8s 998ms/step - loss: 0.4247 - accuracy: 0.8571 - val_loss: 0.4268 - val_accuracy: 0.8571\n",
            "Epoch 9/100\n",
            "8/8 [==============================] - 8s 1s/step - loss: 0.4263 - accuracy: 0.8571 - val_loss: 0.4417 - val_accuracy: 0.8571\n",
            "Epoch 10/100\n",
            "8/8 [==============================] - 8s 983ms/step - loss: 0.4279 - accuracy: 0.8571 - val_loss: 0.4267 - val_accuracy: 0.8571\n",
            "Epoch 11/100\n",
            "8/8 [==============================] - 8s 972ms/step - loss: 0.4291 - accuracy: 0.8571 - val_loss: 0.4248 - val_accuracy: 0.8571\n",
            "Epoch 12/100\n",
            "8/8 [==============================] - 8s 972ms/step - loss: 0.4188 - accuracy: 0.8571 - val_loss: 0.4450 - val_accuracy: 0.8571\n",
            "Epoch 13/100\n",
            "8/8 [==============================] - 8s 974ms/step - loss: 0.4325 - accuracy: 0.8571 - val_loss: 0.4227 - val_accuracy: 0.8571\n",
            "Epoch 14/100\n",
            "8/8 [==============================] - 7s 905ms/step - loss: 0.4233 - accuracy: 0.8571 - val_loss: 0.4472 - val_accuracy: 0.8571\n",
            "Epoch 15/100\n",
            "8/8 [==============================] - 9s 1s/step - loss: 0.4200 - accuracy: 0.8571 - val_loss: 0.4244 - val_accuracy: 0.8571\n",
            "Epoch 16/100\n",
            "8/8 [==============================] - 8s 1s/step - loss: 0.4236 - accuracy: 0.8571 - val_loss: 0.4222 - val_accuracy: 0.8571\n",
            "Epoch 17/100\n",
            "8/8 [==============================] - 8s 945ms/step - loss: 0.4228 - accuracy: 0.8571 - val_loss: 0.4329 - val_accuracy: 0.8571\n",
            "Epoch 18/100\n",
            "8/8 [==============================] - 7s 891ms/step - loss: 0.4292 - accuracy: 0.8571 - val_loss: 0.4347 - val_accuracy: 0.8571\n",
            "Epoch 19/100\n",
            "8/8 [==============================] - 8s 928ms/step - loss: 0.4221 - accuracy: 0.8571 - val_loss: 0.4161 - val_accuracy: 0.8571\n",
            "Epoch 20/100\n",
            "8/8 [==============================] - 8s 962ms/step - loss: 0.4248 - accuracy: 0.8571 - val_loss: 0.4412 - val_accuracy: 0.8571\n",
            "Epoch 21/100\n",
            "8/8 [==============================] - 7s 916ms/step - loss: 0.4312 - accuracy: 0.8571 - val_loss: 0.4116 - val_accuracy: 0.8571\n",
            "Epoch 22/100\n",
            "8/8 [==============================] - 8s 977ms/step - loss: 0.4310 - accuracy: 0.8571 - val_loss: 0.4409 - val_accuracy: 0.8571\n",
            "Epoch 23/100\n",
            "8/8 [==============================] - 8s 995ms/step - loss: 0.4275 - accuracy: 0.8571 - val_loss: 0.4217 - val_accuracy: 0.8571\n",
            "Epoch 24/100\n",
            "8/8 [==============================] - 8s 988ms/step - loss: 0.4304 - accuracy: 0.8571 - val_loss: 0.4174 - val_accuracy: 0.8571\n",
            "Epoch 25/100\n",
            "8/8 [==============================] - 8s 992ms/step - loss: 0.4233 - accuracy: 0.8571 - val_loss: 0.4359 - val_accuracy: 0.8571\n",
            "Epoch 26/100\n",
            "8/8 [==============================] - 8s 983ms/step - loss: 0.4256 - accuracy: 0.8571 - val_loss: 0.4105 - val_accuracy: 0.8571\n",
            "Epoch 27/100\n",
            "8/8 [==============================] - 8s 970ms/step - loss: 0.4296 - accuracy: 0.8571 - val_loss: 0.4487 - val_accuracy: 0.8571\n",
            "Epoch 28/100\n",
            "8/8 [==============================] - 8s 975ms/step - loss: 0.4289 - accuracy: 0.8571 - val_loss: 0.4127 - val_accuracy: 0.8571\n",
            "Epoch 29/100\n",
            "8/8 [==============================] - 8s 958ms/step - loss: 0.4222 - accuracy: 0.8571 - val_loss: 0.4375 - val_accuracy: 0.8571\n",
            "Epoch 30/100\n",
            "8/8 [==============================] - 8s 1s/step - loss: 0.4211 - accuracy: 0.8571 - val_loss: 0.4129 - val_accuracy: 0.8571\n",
            "Epoch 31/100\n",
            "8/8 [==============================] - 8s 967ms/step - loss: 0.4226 - accuracy: 0.8571 - val_loss: 0.4257 - val_accuracy: 0.8571\n",
            "Epoch 32/100\n",
            "8/8 [==============================] - 8s 1s/step - loss: 0.4219 - accuracy: 0.8571 - val_loss: 0.4221 - val_accuracy: 0.8571\n",
            "Epoch 33/100\n",
            "8/8 [==============================] - 8s 951ms/step - loss: 0.4236 - accuracy: 0.8571 - val_loss: 0.4147 - val_accuracy: 0.8571\n",
            "Epoch 34/100\n",
            "8/8 [==============================] - 8s 1s/step - loss: 0.4234 - accuracy: 0.8571 - val_loss: 0.4206 - val_accuracy: 0.8571\n",
            "Epoch 35/100\n",
            "8/8 [==============================] - 8s 987ms/step - loss: 0.4233 - accuracy: 0.8571 - val_loss: 0.4164 - val_accuracy: 0.8571\n",
            "Epoch 36/100\n",
            "8/8 [==============================] - 8s 968ms/step - loss: 0.4240 - accuracy: 0.8571 - val_loss: 0.4201 - val_accuracy: 0.8571\n",
            "Epoch 37/100\n",
            "8/8 [==============================] - 8s 953ms/step - loss: 0.4212 - accuracy: 0.8571 - val_loss: 0.4183 - val_accuracy: 0.8571\n",
            "Epoch 38/100\n",
            "8/8 [==============================] - 8s 929ms/step - loss: 0.4232 - accuracy: 0.8571 - val_loss: 0.4180 - val_accuracy: 0.8571\n",
            "Epoch 39/100\n",
            "8/8 [==============================] - 8s 1s/step - loss: 0.4243 - accuracy: 0.8571 - val_loss: 0.4192 - val_accuracy: 0.8571\n",
            "Epoch 40/100\n",
            "8/8 [==============================] - 9s 1s/step - loss: 0.4238 - accuracy: 0.8571 - val_loss: 0.4194 - val_accuracy: 0.8571\n",
            "Epoch 41/100\n",
            "8/8 [==============================] - 8s 980ms/step - loss: 0.4233 - accuracy: 0.8571 - val_loss: 0.4173 - val_accuracy: 0.8571\n",
            "Epoch 42/100\n",
            "8/8 [==============================] - 8s 987ms/step - loss: 0.4213 - accuracy: 0.8571 - val_loss: 0.4168 - val_accuracy: 0.8571\n",
            "Epoch 43/100\n",
            "8/8 [==============================] - 8s 1s/step - loss: 0.4210 - accuracy: 0.8571 - val_loss: 0.4241 - val_accuracy: 0.8571\n",
            "Epoch 44/100\n",
            "8/8 [==============================] - 8s 956ms/step - loss: 0.4260 - accuracy: 0.8571 - val_loss: 0.4121 - val_accuracy: 0.8571\n",
            "Epoch 45/100\n",
            "8/8 [==============================] - 8s 1s/step - loss: 0.4180 - accuracy: 0.8571 - val_loss: 0.4186 - val_accuracy: 0.8571\n",
            "Epoch 46/100\n",
            "8/8 [==============================] - 7s 914ms/step - loss: 0.4248 - accuracy: 0.8571 - val_loss: 0.4150 - val_accuracy: 0.8571\n",
            "Epoch 47/100\n",
            "8/8 [==============================] - 7s 1s/step - loss: 0.4251 - accuracy: 0.8571 - val_loss: 0.4204 - val_accuracy: 0.8571\n",
            "Epoch 48/100\n",
            "8/8 [==============================] - 8s 982ms/step - loss: 0.4244 - accuracy: 0.8571 - val_loss: 0.4145 - val_accuracy: 0.8571\n",
            "Epoch 49/100\n",
            "8/8 [==============================] - 8s 999ms/step - loss: 0.4244 - accuracy: 0.8571 - val_loss: 0.4133 - val_accuracy: 0.8571\n",
            "Epoch 50/100\n",
            "8/8 [==============================] - 9s 1s/step - loss: 0.4231 - accuracy: 0.8571 - val_loss: 0.4239 - val_accuracy: 0.8571\n",
            "Epoch 51/100\n",
            "8/8 [==============================] - 8s 1s/step - loss: 0.4263 - accuracy: 0.8571 - val_loss: 0.4119 - val_accuracy: 0.8571\n",
            "Epoch 52/100\n",
            "8/8 [==============================] - 8s 972ms/step - loss: 0.4264 - accuracy: 0.8571 - val_loss: 0.4185 - val_accuracy: 0.8571\n",
            "Epoch 53/100\n",
            "8/8 [==============================] - 8s 913ms/step - loss: 0.4196 - accuracy: 0.8571 - val_loss: 0.4135 - val_accuracy: 0.8571\n",
            "Epoch 54/100\n",
            "8/8 [==============================] - 8s 979ms/step - loss: 0.4233 - accuracy: 0.8571 - val_loss: 0.4201 - val_accuracy: 0.8571\n",
            "Epoch 55/100\n",
            "8/8 [==============================] - 9s 1s/step - loss: 0.4245 - accuracy: 0.8571 - val_loss: 0.4139 - val_accuracy: 0.8571\n",
            "Epoch 56/100\n",
            "8/8 [==============================] - 9s 1s/step - loss: 0.4227 - accuracy: 0.8571 - val_loss: 0.4166 - val_accuracy: 0.8571\n",
            "Epoch 57/100\n",
            "8/8 [==============================] - 9s 1s/step - loss: 0.4194 - accuracy: 0.8571 - val_loss: 0.4165 - val_accuracy: 0.8571\n",
            "Epoch 58/100\n",
            "8/8 [==============================] - 8s 971ms/step - loss: 0.4214 - accuracy: 0.8571 - val_loss: 0.4111 - val_accuracy: 0.8571\n",
            "Epoch 59/100\n",
            "8/8 [==============================] - 8s 1s/step - loss: 0.4258 - accuracy: 0.8571 - val_loss: 0.4170 - val_accuracy: 0.8571\n",
            "Epoch 60/100\n",
            "8/8 [==============================] - 8s 1s/step - loss: 0.4206 - accuracy: 0.8571 - val_loss: 0.4107 - val_accuracy: 0.8571\n",
            "Epoch 61/100\n",
            "8/8 [==============================] - 9s 1s/step - loss: 0.4270 - accuracy: 0.8571 - val_loss: 0.4323 - val_accuracy: 0.8571\n",
            "Epoch 62/100\n",
            "8/8 [==============================] - 9s 1s/step - loss: 0.4254 - accuracy: 0.8571 - val_loss: 0.4104 - val_accuracy: 0.8571\n",
            "Epoch 63/100\n",
            "8/8 [==============================] - 8s 1s/step - loss: 0.4268 - accuracy: 0.8571 - val_loss: 0.4201 - val_accuracy: 0.8571\n",
            "Epoch 64/100\n",
            "8/8 [==============================] - 9s 1s/step - loss: 0.4228 - accuracy: 0.8571 - val_loss: 0.4102 - val_accuracy: 0.8571\n",
            "Epoch 65/100\n",
            "8/8 [==============================] - 8s 1s/step - loss: 0.4228 - accuracy: 0.8571 - val_loss: 0.4149 - val_accuracy: 0.8571\n",
            "Epoch 66/100\n",
            "8/8 [==============================] - 8s 1s/step - loss: 0.4202 - accuracy: 0.8571 - val_loss: 0.4150 - val_accuracy: 0.8571\n",
            "Epoch 67/100\n",
            "8/8 [==============================] - 9s 1s/step - loss: 0.4232 - accuracy: 0.8571 - val_loss: 0.4107 - val_accuracy: 0.8571\n",
            "Epoch 68/100\n",
            "8/8 [==============================] - 9s 1s/step - loss: 0.4214 - accuracy: 0.8571 - val_loss: 0.4177 - val_accuracy: 0.8571\n",
            "Epoch 69/100\n",
            "8/8 [==============================] - 8s 1s/step - loss: 0.4194 - accuracy: 0.8571 - val_loss: 0.4110 - val_accuracy: 0.8571\n",
            "Epoch 70/100\n",
            "8/8 [==============================] - 8s 1s/step - loss: 0.4187 - accuracy: 0.8571 - val_loss: 0.4121 - val_accuracy: 0.8571\n",
            "Epoch 71/100\n",
            "8/8 [==============================] - 8s 1s/step - loss: 0.4209 - accuracy: 0.8571 - val_loss: 0.4148 - val_accuracy: 0.8571\n",
            "Epoch 72/100\n",
            "8/8 [==============================] - 8s 949ms/step - loss: 0.4212 - accuracy: 0.8571 - val_loss: 0.4130 - val_accuracy: 0.8571\n",
            "Epoch 73/100\n",
            "8/8 [==============================] - 9s 1s/step - loss: 0.4212 - accuracy: 0.8571 - val_loss: 0.4111 - val_accuracy: 0.8571\n",
            "Epoch 74/100\n",
            "8/8 [==============================] - 9s 1s/step - loss: 0.4243 - accuracy: 0.8571 - val_loss: 0.4129 - val_accuracy: 0.8571\n",
            "Epoch 75/100\n",
            "8/8 [==============================] - 9s 1s/step - loss: 0.4233 - accuracy: 0.8571 - val_loss: 0.4108 - val_accuracy: 0.8571\n",
            "Epoch 76/100\n",
            "8/8 [==============================] - 8s 940ms/step - loss: 0.4177 - accuracy: 0.8571 - val_loss: 0.4117 - val_accuracy: 0.8571\n",
            "Epoch 77/100\n",
            "8/8 [==============================] - 8s 1s/step - loss: 0.4218 - accuracy: 0.8571 - val_loss: 0.4113 - val_accuracy: 0.8571\n",
            "Epoch 78/100\n",
            "8/8 [==============================] - 8s 1s/step - loss: 0.4221 - accuracy: 0.8571 - val_loss: 0.4114 - val_accuracy: 0.8571\n",
            "Epoch 79/100\n",
            "8/8 [==============================] - 8s 1s/step - loss: 0.4192 - accuracy: 0.8571 - val_loss: 0.4129 - val_accuracy: 0.8571\n",
            "Epoch 80/100\n",
            "8/8 [==============================] - 9s 1s/step - loss: 0.4195 - accuracy: 0.8571 - val_loss: 0.4137 - val_accuracy: 0.8571\n",
            "Epoch 81/100\n",
            "8/8 [==============================] - 9s 1s/step - loss: 0.4228 - accuracy: 0.8571 - val_loss: 0.4105 - val_accuracy: 0.8571\n",
            "Epoch 82/100\n",
            "8/8 [==============================] - 8s 1s/step - loss: 0.4244 - accuracy: 0.8571 - val_loss: 0.4144 - val_accuracy: 0.8571\n",
            "Epoch 83/100\n",
            "8/8 [==============================] - 9s 1s/step - loss: 0.4204 - accuracy: 0.8571 - val_loss: 0.4139 - val_accuracy: 0.8571\n",
            "Epoch 84/100\n",
            "8/8 [==============================] - 8s 1s/step - loss: 0.4207 - accuracy: 0.8571 - val_loss: 0.4110 - val_accuracy: 0.8571\n",
            "Epoch 85/100\n",
            "8/8 [==============================] - 7s 906ms/step - loss: 0.4212 - accuracy: 0.8571 - val_loss: 0.4147 - val_accuracy: 0.8571\n",
            "Epoch 86/100\n",
            "8/8 [==============================] - 8s 984ms/step - loss: 0.4188 - accuracy: 0.8571 - val_loss: 0.4113 - val_accuracy: 0.8571\n",
            "Epoch 87/100\n",
            "8/8 [==============================] - 8s 1s/step - loss: 0.4205 - accuracy: 0.8571 - val_loss: 0.4112 - val_accuracy: 0.8571\n",
            "Epoch 88/100\n",
            "8/8 [==============================] - 9s 1s/step - loss: 0.4201 - accuracy: 0.8571 - val_loss: 0.4117 - val_accuracy: 0.8571\n",
            "Epoch 89/100\n",
            "8/8 [==============================] - 8s 987ms/step - loss: 0.4158 - accuracy: 0.8571 - val_loss: 0.4115 - val_accuracy: 0.8571\n",
            "Epoch 90/100\n",
            "8/8 [==============================] - 8s 972ms/step - loss: 0.4205 - accuracy: 0.8571 - val_loss: 0.4141 - val_accuracy: 0.8571\n",
            "Epoch 91/100\n",
            "8/8 [==============================] - 8s 957ms/step - loss: 0.4206 - accuracy: 0.8571 - val_loss: 0.4103 - val_accuracy: 0.8571\n",
            "Epoch 92/100\n",
            "8/8 [==============================] - 8s 966ms/step - loss: 0.4185 - accuracy: 0.8571 - val_loss: 0.4140 - val_accuracy: 0.8571\n",
            "Epoch 93/100\n",
            "8/8 [==============================] - 8s 987ms/step - loss: 0.4199 - accuracy: 0.8571 - val_loss: 0.4108 - val_accuracy: 0.8571\n",
            "Epoch 94/100\n",
            "8/8 [==============================] - 8s 960ms/step - loss: 0.4295 - accuracy: 0.8571 - val_loss: 0.4135 - val_accuracy: 0.8571\n",
            "Epoch 95/100\n",
            "8/8 [==============================] - 7s 895ms/step - loss: 0.4206 - accuracy: 0.8571 - val_loss: 0.4112 - val_accuracy: 0.8571\n",
            "Epoch 96/100\n",
            "8/8 [==============================] - 8s 998ms/step - loss: 0.4191 - accuracy: 0.8571 - val_loss: 0.4109 - val_accuracy: 0.8571\n",
            "Epoch 97/100\n",
            "8/8 [==============================] - 8s 981ms/step - loss: 0.4226 - accuracy: 0.8571 - val_loss: 0.4162 - val_accuracy: 0.8571\n",
            "Epoch 98/100\n",
            "8/8 [==============================] - 8s 979ms/step - loss: 0.4211 - accuracy: 0.8571 - val_loss: 0.4104 - val_accuracy: 0.8571\n",
            "Epoch 99/100\n",
            "8/8 [==============================] - 8s 965ms/step - loss: 0.4218 - accuracy: 0.8571 - val_loss: 0.4118 - val_accuracy: 0.8571\n",
            "Epoch 100/100\n",
            "8/8 [==============================] - 8s 1s/step - loss: 0.4176 - accuracy: 0.8571 - val_loss: 0.4126 - val_accuracy: 0.8571\n"
          ]
        }
      ],
      "source": [
        "hist = model.fit_generator(\n",
        "    train_generator,\n",
        "    steps_per_epoch=8,\n",
        "    epochs=100,\n",
        "    validation_data = validation_generator,\n",
        "    validation_steps=2\n",
        ")"
      ]
    },
    {
      "cell_type": "code",
      "execution_count": 27,
      "metadata": {
        "id": "fJ2jq2S4Updx"
      },
      "outputs": [
        {
          "name": "stderr",
          "output_type": "stream",
          "text": [
            "/var/folders/13/p_dy58694092f9vhw3lnlmwc0000gn/T/ipykernel_54412/326654268.py:1: UserWarning: `Model.evaluate_generator` is deprecated and will be removed in a future version. Please use `Model.evaluate`, which supports generators.\n",
            "  model.evaluate_generator(train_generator)\n"
          ]
        },
        {
          "data": {
            "text/plain": [
              "[0.4129108488559723, 0.857142984867096]"
            ]
          },
          "execution_count": 27,
          "metadata": {},
          "output_type": "execute_result"
        }
      ],
      "source": [
        "model.evaluate_generator(train_generator)"
      ]
    },
    {
      "cell_type": "code",
      "execution_count": 28,
      "metadata": {
        "id": "yTk1k9nUUpg2"
      },
      "outputs": [
        {
          "name": "stderr",
          "output_type": "stream",
          "text": [
            "/var/folders/13/p_dy58694092f9vhw3lnlmwc0000gn/T/ipykernel_54412/3378472596.py:1: UserWarning: `Model.evaluate_generator` is deprecated and will be removed in a future version. Please use `Model.evaluate`, which supports generators.\n",
            "  model.evaluate_generator(validation_generator)\n"
          ]
        },
        {
          "data": {
            "text/plain": [
              "[0.41261357069015503, 0.8571427464485168]"
            ]
          },
          "execution_count": 28,
          "metadata": {},
          "output_type": "execute_result"
        }
      ],
      "source": [
        "model.evaluate_generator(validation_generator)"
      ]
    },
    {
      "cell_type": "code",
      "execution_count": 29,
      "metadata": {
        "id": "XcC8Z05hUpj8"
      },
      "outputs": [
        {
          "name": "stdout",
          "output_type": "stream",
          "text": [
            "INFO:tensorflow:Assets written to: saved_model/my_model/assets\n"
          ]
        },
        {
          "name": "stderr",
          "output_type": "stream",
          "text": [
            "INFO:tensorflow:Assets written to: saved_model/my_model/assets\n"
          ]
        }
      ],
      "source": [
        "# Save the entire model as a SavedModel.\n",
        "!mkdir -p saved_model\n",
        "model.save('saved_model/my_model')"
      ]
    },
    {
      "cell_type": "code",
      "execution_count": 30,
      "metadata": {
        "id": "KAGW0Z_4VL0Q"
      },
      "outputs": [
        {
          "data": {
            "image/png": "[encoded data removed]",
            "text/plain": [
              "<Figure size 640x480 with 1 Axes>"
            ]
          },
          "metadata": {},
          "output_type": "display_data"
        },
        {
          "data": {
            "image/png": "[encoded data removed]",
            "text/plain": [
              "<Figure size 640x480 with 1 Axes>"
            ]
          },
          "metadata": {},
          "output_type": "display_data"
        }
      ],
      "source": [
        "import matplotlib.pyplot as plt\n",
        "# accuracy plot\n",
        "plt.plot(hist.history['accuracy'])\n",
        "plt.plot(hist.history['val_accuracy'])\n",
        "plt.title('model accuracy')\n",
        "plt.ylabel('accuracy')\n",
        "plt.xlabel('epoch')\n",
        "plt.legend(['train', 'val'], loc='upper left')\n",
        "plt.show()\n",
        "\n",
        "# loss plot\n",
        "plt.plot(hist.history['loss'])\n",
        "plt.plot(hist.history['val_loss'])\n",
        "plt.title('model loss')\n",
        "plt.ylabel('loss')\n",
        "plt.xlabel('epoch')\n",
        "plt.legend(['train', 'test'], loc='upper left')\n",
        "plt.show()"
      ]
    },
    {
      "cell_type": "code",
      "execution_count": 31,
      "metadata": {},
      "outputs": [
        {
          "name": "stdout",
          "output_type": "stream",
          "text": [
            "1/1 [==============================] - 0s 79ms/step\n",
            "Predicted class: Hello\n"
          ]
        }
      ],
      "source": [
        "import numpy as np\n",
        "from keras.preprocessing import image\n",
        "\n",
        "# Load the image\n",
        "img_path = '/Users/vaishaalikondapalli/Desktop/Allimgs/Test/Hello/Hello.5503eb44-54dc-11ef-8c18-d22f8fcef282.png'  # Update this to your actual image path\n",
        "img = image.load_img(img_path, target_size=(224, 224))\n",
        "img_array = image.img_to_array(img)\n",
        "img_array = np.expand_dims(img_array, axis=0)\n",
        "img_array = img_array * 1./255  # Rescale\n",
        "\n",
        "# Predict the class\n",
        "prediction = model.predict(img_array)\n",
        "predicted_class = np.argmax(prediction, axis=1)\n",
        "\n",
        "# Map the predicted class index to the actual class label\n",
        "class_indices = train_generator.class_indices\n",
        "class_labels = {v: k for k, v in class_indices.items()}\n",
        "predicted_label = class_labels[predicted_class[0]]\n",
        "\n",
        "print(f\"Predicted class: {predicted_label}\")"
      ]
    },
    {
      "cell_type": "code",
      "execution_count": 32,
      "metadata": {},
      "outputs": [
        {
          "name": "stdout",
          "output_type": "stream",
          "text": [
            "1/1 [==============================] - 0s 32ms/step\n",
            "Predicted class: Hello\n"
          ]
        }
      ],
      "source": [
        "# Load the image\n",
        "img_path = '/Users/vaishaalikondapalli/Desktop/Allimgs/Test/Water/Water.a8fbde40-5654-11ef-b97a-d22f8fcef282.png'  # Update this to your actual image path\n",
        "img = image.load_img(img_path, target_size=(224, 224))\n",
        "img_array = image.img_to_array(img)\n",
        "img_array = np.expand_dims(img_array, axis=0)\n",
        "img_array = img_array * 1./255  # Rescale\n",
        "\n",
        "# Predict the class\n",
        "prediction = model.predict(img_array)\n",
        "predicted_class = np.argmax(prediction, axis=1)\n",
        "\n",
        "# Map the predicted class index to the actual class label\n",
        "class_indices = train_generator.class_indices\n",
        "class_labels = {v: k for k, v in class_indices.items()}\n",
        "predicted_label = class_labels[predicted_class[0]]\n",
        "\n",
        "print(f\"Predicted class: {predicted_label}\")"
      ]
    },
    {
      "cell_type": "code",
      "execution_count": 33,
      "metadata": {},
      "outputs": [
        {
          "name": "stdout",
          "output_type": "stream",
          "text": [
            "1/1 [==============================] - 0s 31ms/step\n",
            "Predicted class: Hello\n"
          ]
        }
      ],
      "source": [
        "# Load the image\n",
        "img_path = '/Users/vaishaalikondapalli/Desktop/Allimgs/Test/ThankYou/ThankYou.886edde0-54dc-11ef-8c18-d22f8fcef282.png'  # Update this to your actual image path\n",
        "img = image.load_img(img_path, target_size=(224, 224))\n",
        "img_array = image.img_to_array(img)\n",
        "img_array = np.expand_dims(img_array, axis=0)\n",
        "img_array = img_array * 1./255  # Rescale\n",
        "\n",
        "# Predict the class\n",
        "prediction = model.predict(img_array)\n",
        "predicted_class = np.argmax(prediction, axis=1)\n",
        "\n",
        "# Map the predicted class index to the actual class label\n",
        "class_indices = train_generator.class_indices\n",
        "class_labels = {v: k for k, v in class_indices.items()}\n",
        "predicted_label = class_labels[predicted_class[0]]\n",
        "\n",
        "print(f\"Predicted class: {predicted_label}\")"
      ]
    }
  ],
  "metadata": {
    "colab": {
      "provenance": []
    },
    "kernelspec": {
      "display_name": "Python 3",
      "name": "python3"
    },
    "language_info": {
      "codemirror_mode": {
        "name": "ipython",
        "version": 3
      },
      "file_extension": ".py",
      "mimetype": "text/x-python",
      "name": "python",
      "nbconvert_exporter": "python",
      "pygments_lexer": "ipython3",
      "version": "3.9.12"
    }
  },
  "nbformat": 4,
  "nbformat_minor": 0
}
